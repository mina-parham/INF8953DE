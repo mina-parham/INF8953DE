{
  "nbformat": 4,
  "nbformat_minor": 0,
  "metadata": {
    "colab": {
      "name": "2.1.ipynb",
      "provenance": [],
      "collapsed_sections": []
    },
    "kernelspec": {
      "display_name": "Python 3",
      "name": "python3"
    },
    "language_info": {
      "name": "python"
    }
  },
  "cells": [
    {
      "cell_type": "code",
      "metadata": {
        "id": "Js37gBd4c6_g"
      },
      "source": [
        "import frozen_lake as fl\n",
        "import numpy as np\n",
        "from collections import defaultdict\n",
        "import matplotlib.pyplot as plt"
      ],
      "execution_count": 1,
      "outputs": []
    },
    {
      "cell_type": "code",
      "metadata": {
        "colab": {
          "base_uri": "https://localhost:8080/"
        },
        "id": "SntdSmlsdA4a",
        "outputId": "23f5dfb7-5ef3-4a26-e8c6-63f57fcb7ef8"
      },
      "source": [
        "env = fl.FrozenLakeEnv(map_name = \"4x4\", slip_rate = 0.1)\n",
        "env.seed(1)"
      ],
      "execution_count": 2,
      "outputs": [
        {
          "output_type": "execute_result",
          "data": {
            "text/plain": [
              "[1]"
            ]
          },
          "metadata": {},
          "execution_count": 2
        }
      ]
    },
    {
      "cell_type": "markdown",
      "metadata": {
        "id": "Mq3z0gK3ipH2"
      },
      "source": [
        "### 1.1"
      ]
    },
    {
      "cell_type": "code",
      "metadata": {
        "id": "ehikhu57gCNO"
      },
      "source": [
        "def generate_episode(policy, env, render):\n",
        "    state = env.reset()\n",
        "    done = False\n",
        "    episodes = []\n",
        "    while not done:\n",
        "        if render:\n",
        "            env.render()\n",
        "        probs= [policy[state, a] for a in range(env.action_space.n)]\n",
        "        action = np.random.choice(np.arange(4), p=probs)\n",
        "        next_state, reward, done, extra = env.step(action)\n",
        "        episodes.append((state, action, reward))\n",
        "        state = next_state\n",
        "    \n",
        "    return episodes\n",
        "    "
      ],
      "execution_count": 3,
      "outputs": []
    },
    {
      "cell_type": "code",
      "metadata": {
        "colab": {
          "base_uri": "https://localhost:8080/"
        },
        "id": "I9fIGj-AXWZg",
        "outputId": "9462d20b-9339-4772-94f3-aefd8a3edcb8"
      },
      "source": [
        "policy = np.full((16,4),0.25)\n",
        "generate_episode(policy, env, True)"
      ],
      "execution_count": 5,
      "outputs": [
        {
          "output_type": "stream",
          "name": "stdout",
          "text": [
            "\n",
            "\u001b[41mS\u001b[0mFFF\n",
            "FHFH\n",
            "FFFH\n",
            "HFFG\n",
            "  (Left)\n",
            "\u001b[41mS\u001b[0mFFF\n",
            "FHFH\n",
            "FFFH\n",
            "HFFG\n",
            "  (Right)\n",
            "S\u001b[41mF\u001b[0mFF\n",
            "FHFH\n",
            "FFFH\n",
            "HFFG\n",
            "  (Left)\n",
            "\u001b[41mS\u001b[0mFFF\n",
            "FHFH\n",
            "FFFH\n",
            "HFFG\n",
            "  (Right)\n",
            "S\u001b[41mF\u001b[0mFF\n",
            "FHFH\n",
            "FFFH\n",
            "HFFG\n",
            "  (Up)\n",
            "S\u001b[41mF\u001b[0mFF\n",
            "FHFH\n",
            "FFFH\n",
            "HFFG\n",
            "  (Down)\n",
            "SFFF\n",
            "F\u001b[41mH\u001b[0mFH\n",
            "FFFH\n",
            "HFFG\n"
          ]
        },
        {
          "output_type": "execute_result",
          "data": {
            "text/plain": [
              "[(0, 0, -1),\n",
              " (0, 2, -1),\n",
              " (1, 0, -1),\n",
              " (0, 2, -1),\n",
              " (1, 3, -1),\n",
              " (1, 1, -1),\n",
              " (5, 2, -100)]"
            ]
          },
          "metadata": {},
          "execution_count": 5
        }
      ]
    },
    {
      "cell_type": "markdown",
      "metadata": {
        "id": "KqXDTZLai8ua"
      },
      "source": [
        "### 1.2"
      ]
    },
    {
      "cell_type": "code",
      "metadata": {
        "id": "Wc8QWUzKgDu-"
      },
      "source": [
        "def soft_policy_mc(episodes_n, env, gamma, epsilon ):\n",
        "\n",
        "    undis_returns =[]\n",
        "    #initialize\n",
        "    policy = np.full((16,4),0.25)\n",
        "    Q = np.zeros((16, 4))\n",
        "    Returns = [[[0] for j in range(env.action_space.n)] for i in range(env.observation_space.n)]\n",
        "\n",
        "    # Returns = {}\n",
        "    # for state in range(env.observation_space.n):\n",
        "    #     for action in range(env.action_space.n):\n",
        "    #         Returns[(state,action)] = []\n",
        "\n",
        "\n",
        "    for i in range(episodes_n):\n",
        "\n",
        "        episodes = generate_episode(policy, env, False)\n",
        "\n",
        "        G = 0.0\n",
        "        undiscounted_return = 0.0\n",
        "\n",
        "        for i, sar  in enumerate(episodes[::-1]):          #0: state, 1: action, 2:reward\n",
        "            G = gamma * G + sar[2]\n",
        "            undiscounted_return += sar[2]\n",
        "\n",
        "            x = np.array(episodes[::-1])[:,0:2][i+1:]\n",
        "            if not (sar[0], sar[1])  in [(x[j][0], x[j][1]) for j in range(len(x))]:\n",
        "              #if (sar[0] != x[i][0] and sar[1] != x[i][1]):\n",
        "            \n",
        "                Returns[sar[0]][sar[1]].append(G)\n",
        "                Q[sar[0], sar[1]] = np.average(Returns[sar[0]][sar[1]])\n",
        "                a_max = np.argmax(Q[sar[0]])\n",
        "                for a in range(env.action_space.n):\n",
        "                \n",
        "                \n",
        "                    if (a != a_max):\n",
        "                        policy[sar[0], a] = epsilon / env.action_space.n\n",
        "                    else:\n",
        "                        policy[sar[0], a]  = 1.0 - epsilon + epsilon/env.action_space.n\n",
        "\n",
        "        undis_returns.append(undiscounted_return)\n",
        "    return policy, undis_returns\n",
        "\n",
        "        "
      ],
      "execution_count": 7,
      "outputs": []
    },
    {
      "cell_type": "code",
      "metadata": {
        "id": "8V-LVf43d4um"
      },
      "source": [
        "policy_total = []\n",
        "returns_total = np.zeros((10, 2000))\n",
        "for i in range(10):\n",
        "  policy, returns_total[i,:] = soft_policy_mc(episodes_n = 2000, env = env, gamma = 0.99, epsilon = 0.05)\n",
        "  policy_total.append(policy)"
      ],
      "execution_count": 8,
      "outputs": []
    },
    {
      "cell_type": "markdown",
      "metadata": {
        "id": "tDUO0YuzgFOV"
      },
      "source": [
        "### 1.2.a"
      ]
    },
    {
      "cell_type": "code",
      "metadata": {
        "colab": {
          "base_uri": "https://localhost:8080/",
          "height": 281
        },
        "id": "7g-X7ZnGeoJs",
        "outputId": "6589ee76-8218-4753-c5df-df464fc3d34c"
      },
      "source": [
        "returns_total_avg = np.average(returns_total, axis=0)\n",
        "plt.plot(returns_total_avg)\n",
        "plt.title(\"average undiscounted return across the 10 different runs\")\n",
        "\n",
        "plt.show()"
      ],
      "execution_count": 9,
      "outputs": [
        {
          "output_type": "display_data",
          "data": {
            "image/png": "[encoded data removed]",
            "text/plain": [
              "<Figure size 432x288 with 1 Axes>"
            ]
          },
          "metadata": {
            "needs_background": "light"
          }
        }
      ]
    },
    {
      "cell_type": "markdown",
      "metadata": {
        "id": "t8ZZInr7gIv1"
      },
      "source": [
        "### 1.2.b"
      ]
    },
    {
      "cell_type": "code",
      "metadata": {
        "colab": {
          "base_uri": "https://localhost:8080/"
        },
        "id": "qPuVE0XJfxki",
        "outputId": "e9d33218-90a4-483d-cbd1-981926f0e30a"
      },
      "source": [
        "episodes = generate_episode(policy_total[6], env, True)"
      ],
      "execution_count": null,
      "outputs": [
        {
          "name": "stdout",
          "output_type": "stream",
          "text": [
            "\n",
            "\u001b[41mS\u001b[0mFFF\n",
            "FHFH\n",
            "FFFH\n",
            "HFFG\n",
            "  (Right)\n",
            "S\u001b[41mF\u001b[0mFF\n",
            "FHFH\n",
            "FFFH\n",
            "HFFG\n",
            "  (Right)\n",
            "SF\u001b[41mF\u001b[0mF\n",
            "FHFH\n",
            "FFFH\n",
            "HFFG\n",
            "  (Down)\n",
            "SFFF\n",
            "FH\u001b[41mF\u001b[0mH\n",
            "FFFH\n",
            "HFFG\n",
            "  (Down)\n",
            "SFFF\n",
            "FHFH\n",
            "FF\u001b[41mF\u001b[0mH\n",
            "HFFG\n",
            "  (Down)\n",
            "SFFF\n",
            "FHFH\n",
            "FFFH\n",
            "HF\u001b[41mF\u001b[0mG\n",
            "  (Right)\n",
            "SFFF\n",
            "FHFH\n",
            "FFFH\n",
            "HFF\u001b[41mG\u001b[0m\n"
          ]
        }
      ]
    },
    {
      "cell_type": "markdown",
      "metadata": {
        "id": "zXrziDcdgVU4"
      },
      "source": [
        "### 1.2.c"
      ]
    },
    {
      "cell_type": "code",
      "metadata": {
        "colab": {
          "base_uri": "https://localhost:8080/"
        },
        "id": "mpOiMQbYgM0s",
        "outputId": "df404d75-54f2-4e3f-8725-a2096269b523"
      },
      "source": [
        "last_episodes = []\n",
        "for i in range(10):\n",
        "    last_episodes.append(np.average(returns_total [i][-100:]))\n",
        "print(f\" average undiscounted return last 100 episodes over 10 runs is:{np.average(last_episodes)}\")"
      ],
      "execution_count": 11,
      "outputs": [
        {
          "output_type": "stream",
          "name": "stdout",
          "text": [
            " average undiscounted return last 100 episodes over 10 runs is:-27.25\n"
          ]
        }
      ]
    },
    {
      "cell_type": "code",
      "metadata": {
        "id": "XtN6xWtFaxCQ"
      },
      "source": [
        "policy_total = []\n",
        "returns_total = np.zeros((10, 10000))\n",
        "for i in range(10):\n",
        "  policy, returns_total[i,:] = soft_policy_mc(episodes_n = 10000, env = env, gamma = 0.99, epsilon = 0.05)\n",
        "  policy_total.append(policy)"
      ],
      "execution_count": 13,
      "outputs": []
    },
    {
      "cell_type": "code",
      "metadata": {
        "colab": {
          "base_uri": "https://localhost:8080/",
          "height": 281
        },
        "id": "ir0PArizck_J",
        "outputId": "65dbbabb-be09-42d6-cd12-99a249816c14"
      },
      "source": [
        "returns_total_avg = np.average(returns_total, axis=0)\n",
        "plt.plot(returns_total_avg)\n",
        "plt.title(\"average undiscounted return across the 10 different runs\")\n",
        "\n",
        "plt.show()"
      ],
      "execution_count": 14,
      "outputs": [
        {
          "output_type": "display_data",
          "data": {
            "image/png": "[encoded data removed]",
            "text/plain": [
              "<Figure size 432x288 with 1 Axes>"
            ]
          },
          "metadata": {
            "needs_background": "light"
          }
        }
      ]
    },
    {
      "cell_type": "code",
      "metadata": {
        "colab": {
          "base_uri": "https://localhost:8080/"
        },
        "id": "h77JyKRWcqlD",
        "outputId": "d32fa918-eacf-45e9-e1e5-42daaa767b2c"
      },
      "source": [
        "last_episodes = []\n",
        "for i in range(10):\n",
        "    last_episodes.append(np.average(returns_total [i][-100:]))\n",
        "print(f\" average undiscounted return last 100 episodes over 10 runs is:{np.average(last_episodes)}\")"
      ],
      "execution_count": 16,
      "outputs": [
        {
          "output_type": "stream",
          "name": "stdout",
          "text": [
            " average undiscounted return last 100 episodes over 10 runs is:-26.423000000000002\n"
          ]
        }
      ]
    },
    {
      "cell_type": "markdown",
      "metadata": {
        "id": "wgQba188h5FU"
      },
      "source": [
        "### 1.3"
      ]
    },
    {
      "cell_type": "code",
      "metadata": {
        "id": "MNECCgSgpJrt"
      },
      "source": [
        "def mc_ordinary(policy, b, num_episodes, gamma):\n",
        "\n",
        "    V = np.zeros(16)\n",
        "    Q = np.zeros((16,4))\n",
        "\n",
        "    C = np.zeros((16))\n",
        "    V_hist = np.zeros((2000, 16))\n",
        "    #returns_count = defaultdict(float)\n",
        "\n",
        "    # YOUR CODE HERE\n",
        "    for i in range(num_episodes):\n",
        "        \n",
        "        episodes = generate_episode(b, env, False)\n",
        "        \n",
        "        G = 0.0\n",
        "        W = 1.0\n",
        "        for t, sar  in enumerate(episodes[::-1]):\n",
        "            G = gamma * G + sar[2]\n",
        "            C[sar[0]] = C[sar[0]] + 1\n",
        "            V[sar[0]] = V[sar[0]] + 1 / C[sar[0]] * W * (G - V[sar[0]])\n",
        "\n",
        "            #Q[[sar[0], sar[1]]] = Q[sar[0], sar[1]] + 1 / C[sar[0], sar[1]] * W * (G - Q[sar[0], sar[1]])\n",
        "            #for a in range(env.action_space.n):\n",
        "\n",
        "              #V[sar[0]] += policy[sar[0],a] * V[sar[0]] \n",
        "\n",
        "            W *= policy[sar[0], sar[1]]/ b[sar[0], sar[1]]\n",
        "            if W == 0:\n",
        "              break\n",
        "\n",
        "        V_hist[i,:] = V.copy()\n",
        "    return V, V_hist\n",
        "\n"
      ],
      "execution_count": 18,
      "outputs": []
    },
    {
      "cell_type": "code",
      "metadata": {
        "id": "R8CpKDXbh6Ek"
      },
      "source": [
        "def mc_weighted(policy, b, num_episodes, gamma):\n",
        "\n",
        "    # Keeps track of current V and count of returns for each state\n",
        "    # to calculate an update.\n",
        "    V = np.zeros(16)\n",
        "    #V = defaultdict(float)\n",
        "\n",
        "    C = np.zeros((16))\n",
        "    V_hist = np.zeros((2000, 16))\n",
        "    #returns_count = defaultdict(float)\n",
        "\n",
        "    # YOUR CODE HERE\n",
        "    for i in range(num_episodes):\n",
        "        \n",
        "        episodes = generate_episode(b, env, False)\n",
        "        \n",
        "        G = 0.0\n",
        "        W = 1.0\n",
        "        for t, sar  in enumerate(episodes[::-1]):\n",
        "            G = gamma *G + sar[2]\n",
        "            C[sar[0]] = C[sar[0]] + W\n",
        "            V[sar[0]] = V[sar[0]] + (W / C[sar[0]]) * (G - V[sar[0]])\n",
        "\n",
        "            W = W * policy[sar[0], sar[1]] / b[sar[0], sar[1]]\n",
        "            if W == 0:\n",
        "              break\n",
        "\n",
        "        V_hist[i,:] = V.copy()\n",
        "    return V, V_hist\n",
        "\n"
      ],
      "execution_count": 19,
      "outputs": []
    },
    {
      "cell_type": "code",
      "metadata": {
        "id": "OsGxFK6YkTYr"
      },
      "source": [
        "b = 1/4 * np.ones((16,4))"
      ],
      "execution_count": 27,
      "outputs": []
    },
    {
      "cell_type": "code",
      "metadata": {
        "id": "efJnb0ZNnQXG"
      },
      "source": [
        "def v_s(s):\n",
        "  V_hist_s = np.zeros((100, 2000))\n",
        "  V_hist_ordinary_s = np.zeros((100, 2000))\n",
        "  for i in range(100):\n",
        "    V, V_hist = mc_weighted(policy_total[6], b, 2000, 0.99)\n",
        "    V_ordinary, V_hist_ordinary = mc_ordinary(policy_total[6], b, 2000, 0.99)\n",
        "    V_hist_s[i,:] = V_hist[:,s]\n",
        "    V_hist_ordinary_s [i,:] = V_hist_ordinary[:,s]\n",
        "  \n",
        "  return V_hist_s, V_hist_ordinary_s\n",
        "\n"
      ],
      "execution_count": 28,
      "outputs": []
    },
    {
      "cell_type": "code",
      "metadata": {
        "id": "uHqf8mniqant"
      },
      "source": [
        "def plot_many(experiments, label, color):\n",
        "            mean_exp = np.mean(experiments, axis=0)\n",
        "            std_exp = np.std(experiments, axis=0)\n",
        "            plt.plot(mean_exp, color=color, label=label)\n",
        "            plt.fill_between(range(len(experiments[0])), mean_exp + std_exp,\n",
        "                mean_exp - std_exp, color=color, alpha=0.1)"
      ],
      "execution_count": 29,
      "outputs": []
    },
    {
      "cell_type": "code",
      "metadata": {
        "colab": {
          "base_uri": "https://localhost:8080/",
          "height": 266
        },
        "id": "4LAuNV8Lo3bh",
        "outputId": "9b7b37c4-1ee3-40d0-accb-9787b0bece75"
      },
      "source": [
        "V_hist_s_0_weighted, V_hist_s_0_ordinary = v_s(0)\n",
        "plot_many(V_hist_s_0_weighted, \"weighted\", None)\n",
        "plot_many(V_hist_s_0_ordinary, \"ordinary\", None)\n"
      ],
      "execution_count": 32,
      "outputs": [
        {
          "output_type": "display_data",
          "data": {
            "image/png": "[encoded data removed]",
            "text/plain": [
              "<Figure size 432x288 with 1 Axes>"
            ]
          },
          "metadata": {
            "needs_background": "light"
          }
        }
      ]
    },
    {
      "cell_type": "code",
      "metadata": {
        "colab": {
          "base_uri": "https://localhost:8080/",
          "height": 265
        },
        "id": "fjWql7Gmo_aS",
        "outputId": "d880e9c1-3e3f-43b1-ce44-b97dbd16f217"
      },
      "source": [
        "V_hist_s_3_weighted, V_hist_s_3_ordinary = v_s(3)\n",
        "plot_many(V_hist_s_3_weighted, \"weighted\", color=None)\n",
        "plot_many(V_hist_s_3_ordinary, \"ordinary\", color=None)\n"
      ],
      "execution_count": 31,
      "outputs": [
        {
          "output_type": "display_data",
          "data": {
            "image/png": "[encoded data removed]",
            "text/plain": [
              "<Figure size 432x288 with 1 Axes>"
            ]
          },
          "metadata": {
            "needs_background": "light"
          }
        }
      ]
    },
    {
      "cell_type": "code",
      "metadata": {
        "colab": {
          "base_uri": "https://localhost:8080/",
          "height": 265
        },
        "id": "6fzuR-r5qo8W",
        "outputId": "192b04d8-76cb-48e4-dbac-7b60a70dfe4d"
      },
      "source": [
        "V_hist_s_7_weighted, V_hist_s_7_ordinary = v_s(7)\n",
        "plot_many(V_hist_s_7_weighted, label=\"weighted\", color=None)\n",
        "plot_many(V_hist_s_7_ordinary, label=\"ordinary\", color=None)\n"
      ],
      "execution_count": null,
      "outputs": [
        {
          "data": {
            "image/png": "[encoded data removed]",
            "text/plain": [
              "<Figure size 432x288 with 1 Axes>"
            ]
          },
          "metadata": {},
          "output_type": "display_data"
        }
      ]
    },
    {
      "cell_type": "code",
      "metadata": {
        "colab": {
          "background_save": true
        },
        "id": "RoE9IleKrCz5",
        "outputId": "f134e2ac-72b1-4c3a-9258-2e8e91718ecb"
      },
      "source": [
        "V_hist_s_14_weighted, V_hist_s_14_ordinary = v_s(14)\n",
        "plot_many(V_hist_s_14_weighted, label=\"weighted\", color=None)\n",
        "plot_many(V_hist_s_14_ordinary, label=\"ordinary\", color=None)\n"
      ],
      "execution_count": null,
      "outputs": [
        {
          "data": {
            "image/png": "[encoded data removed]",
            "text/plain": [
              "<Figure size 432x288 with 1 Axes>"
            ]
          },
          "metadata": {},
          "output_type": "display_data"
        }
      ]
    }
  ]
}