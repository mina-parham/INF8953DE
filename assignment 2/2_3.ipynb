{
  "nbformat": 4,
  "nbformat_minor": 0,
  "metadata": {
    "colab": {
      "name": "2.3.ipynb",
      "provenance": [],
      "collapsed_sections": []
    },
    "kernelspec": {
      "name": "python3",
      "display_name": "Python 3"
    },
    "language_info": {
      "name": "python"
    }
  },
  "cells": [
    {
      "cell_type": "code",
      "metadata": {
        "id": "Yqqd6OfLGogp"
      },
      "source": [
        "  import frozen_lake as fl\n",
        "  import numpy as np\n",
        "  from collections import defaultdict\n",
        "  import matplotlib.pyplot as plt\n",
        "  import collections\n",
        "  import matplotlib.pyplot as plt \n",
        "  import random\n"
      ],
      "execution_count": 2,
      "outputs": []
    },
    {
      "cell_type": "code",
      "metadata": {
        "id": "tqZS_3s4GxSI"
      },
      "source": [
        "env = fl.FrozenLakeEnv(map_name=\"4x4\", slip_rate=0.1)"
      ],
      "execution_count": 3,
      "outputs": []
    },
    {
      "cell_type": "markdown",
      "metadata": {
        "id": "SlQLkivDJPCs"
      },
      "source": [
        "### 3.1"
      ]
    },
    {
      "cell_type": "code",
      "metadata": {
        "id": "qrCi1pbjHAs-"
      },
      "source": [
        "def sarsa(alpha,gamma, num_episodes, render, epsilon, seed, env):\n",
        "    \n",
        "    Q = np.zeros((16,4))\n",
        "    env.seed(seed)\n",
        "    rewards = []\n",
        "    \n",
        "    for i in range(num_episodes):\n",
        "        \n",
        "        state = env.reset()\n",
        "        done = False\n",
        "        \n",
        "        p = np.random.random()\n",
        "        if p < epsilon:\n",
        "            action = np.random.choice(3)\n",
        "        else:\n",
        "            action = np.argmax(Q[state])\n",
        "            \n",
        "        \n",
        "        udreward = 0\n",
        "        \n",
        "        while not done:\n",
        "            \n",
        "            if render:\n",
        "                env.render()\n",
        "        \n",
        "            next_state, reward, done, extra = env.step(action)\n",
        "            udreward += reward\n",
        "\n",
        "            q = np.random.random()\n",
        "            if q < epsilon:\n",
        "                action_prime = np.random.choice(3)\n",
        "            else:\n",
        "                action_prime = np.argmax(Q[next_state])\n",
        "            if done:\n",
        "              Q[state, action] = Q[state,action] + alpha *(reward + gamma * 0 - Q[state,action])\n",
        "              break\n",
        "\n",
        "            else:\n",
        "              Q[state, action] = Q[state,action] + alpha *(reward + gamma * Q[next_state, action_prime] - Q[state,action])\n",
        "              state = next_state\n",
        "              action = action_prime\n",
        "\n",
        "          \n",
        "        \n",
        "        rewards.append(udreward)\n",
        "            \n",
        "    return Q, rewards\n",
        "    \n",
        "    "
      ],
      "execution_count": 4,
      "outputs": []
    },
    {
      "cell_type": "code",
      "metadata": {
        "id": "86MPB94BPcZG"
      },
      "source": [
        "Q_final = []\n",
        "rewards_final = np.zeros((10, 2000))\n",
        "for i in range(10):\n",
        "  Q, rewards_final[i,:] = sarsa(0.1, 0.99, 2000, False, 0.01, i, env)\n",
        "  Q_final.append(Q)"
      ],
      "execution_count": 5,
      "outputs": []
    },
    {
      "cell_type": "code",
      "metadata": {
        "colab": {
          "base_uri": "https://localhost:8080/",
          "height": 281
        },
        "id": "S4B5SEPEX3m2",
        "outputId": "de4e3dbf-a7a8-4ea2-9d15-baa60b71a2da"
      },
      "source": [
        "rewards_final_avg = np.average(rewards_final, axis=0)\n",
        "plt.plot(rewards_final_avg)\n",
        "plt.title(\"SARSA algorithm\")\n",
        "plt.show()"
      ],
      "execution_count": 6,
      "outputs": [
        {
          "output_type": "display_data",
          "data": {
            "image/png": "[encoded data removed]",
            "text/plain": [
              "<Figure size 432x288 with 1 Axes>"
            ]
          },
          "metadata": {
            "needs_background": "light"
          }
        }
      ]
    },
    {
      "cell_type": "code",
      "metadata": {
        "id": "IQ-cznTgYaya"
      },
      "source": [
        "policy = Q_final[4]\n",
        "def generate_episode(policy, env, render):\n",
        "    state = env.reset()\n",
        "    done = False\n",
        "    episodes = []\n",
        "    while not done:\n",
        "        if render:\n",
        "            env.render()\n",
        "        action = np.argmax(policy[state, :])\n",
        "        #action = np.random.choice(np.arange(4), p=policy[state,:])\n",
        "        next_state, reward, done, extra = env.step(action)\n",
        "        episodes.append((state, action, reward))\n",
        "        state = next_state\n",
        "    \n",
        "    #return episodes"
      ],
      "execution_count": 7,
      "outputs": []
    },
    {
      "cell_type": "code",
      "metadata": {
        "colab": {
          "base_uri": "https://localhost:8080/"
        },
        "id": "_3o7xiFxIewV",
        "outputId": "357ad2f6-2687-4bb4-e96d-8eb9fef24ad7"
      },
      "source": [
        "generate_episode(policy, env, True)"
      ],
      "execution_count": 9,
      "outputs": [
        {
          "output_type": "stream",
          "name": "stdout",
          "text": [
            "\n",
            "\u001b[41mS\u001b[0mFFF\n",
            "FHFH\n",
            "FFFH\n",
            "HFFG\n",
            "  (Down)\n",
            "SFFF\n",
            "\u001b[41mF\u001b[0mHFH\n",
            "FFFH\n",
            "HFFG\n",
            "  (Down)\n",
            "SFFF\n",
            "FHFH\n",
            "\u001b[41mF\u001b[0mFFH\n",
            "HFFG\n",
            "  (Right)\n",
            "SFFF\n",
            "FHFH\n",
            "F\u001b[41mF\u001b[0mFH\n",
            "HFFG\n",
            "  (Down)\n",
            "SFFF\n",
            "FHFH\n",
            "FFFH\n",
            "H\u001b[41mF\u001b[0mFG\n",
            "  (Right)\n",
            "SFFF\n",
            "FHFH\n",
            "FFFH\n",
            "HF\u001b[41mF\u001b[0mG\n",
            "  (Right)\n",
            "SFFF\n",
            "FHFH\n",
            "FFFH\n",
            "HFF\u001b[41mG\u001b[0m\n"
          ]
        }
      ]
    },
    {
      "cell_type": "markdown",
      "metadata": {
        "id": "MrJvMULyJT3F"
      },
      "source": [
        "### 3.2\n"
      ]
    },
    {
      "cell_type": "code",
      "metadata": {
        "id": "nNgfTBvlIuK-"
      },
      "source": [
        "def expected_sarsa(alpha,gamma, num_episodes, render, epsilon, seed, env):\n",
        "    \n",
        "    Q = np.zeros((16,4))\n",
        "    env.seed(seed)\n",
        "    rewards = []\n",
        "    \n",
        "    for i in range(num_episodes):\n",
        "        \n",
        "        state = env.reset()\n",
        "        done = False\n",
        "\n",
        "        udreward = 0\n",
        "        \n",
        "        while not done:\n",
        "            \n",
        "            if render:\n",
        "                env.render()\n",
        "        \n",
        "            p = np.random.random()\n",
        "            if p< epsilon:\n",
        "                action = np.random.choice(3)\n",
        "            else:\n",
        "                action = np.argmax(Q[state])\n",
        "\n",
        "            next_state, reward, done, extra = env.step(action)\n",
        "            udreward += reward\n",
        "\n",
        "            q_max = np.max(Q[next_state,:])\n",
        "            greedy_action = 0\n",
        "            for a in range(env.action_space.n):\n",
        "                if Q[next_state, a] == q_max:\n",
        "                    greedy_action +=1\n",
        "              \n",
        "            non_greedy_pi = epsilon / env.action_space.n\n",
        "            greedy_pi = (1 - epsilon) /greedy_action + non_greedy_pi\n",
        "            pi_Q = 0\n",
        "            for i in range(env.action_space.n):\n",
        "                if Q[next_state, i] == q_max:\n",
        "                    pi_Q += Q[next_state, i] * greedy_pi\n",
        "                else:\n",
        "                    pi_Q += Q[next_state, i] * non_greedy_pi\n",
        "            if done:\n",
        "              Q[state, action] = Q[state,action] + alpha *(reward + gamma * 0 - Q[state,action])\n",
        "              break\n",
        "\n",
        "            else:\n",
        "              Q[state, action] = Q[state,action] + alpha *(reward + gamma * pi_Q - Q[state,action])\n",
        "              state = next_state\n",
        "\n",
        "          \n",
        "        \n",
        "        rewards.append(udreward)\n",
        "            \n",
        "    return Q, rewards\n",
        "    \n",
        "    "
      ],
      "execution_count": 10,
      "outputs": []
    },
    {
      "cell_type": "code",
      "metadata": {
        "id": "Qdyc6XugX-AK"
      },
      "source": [
        "Q_final_exsarsa = []\n",
        "rewards_final_exsarsa = np.zeros((10, 2000))\n",
        "for i in range(10):\n",
        "  Q_exsarsa, rewards_final_exsarsa[i,:] = expected_sarsa(0.2, 0.99, 2000, False, 0.01, i, env)\n",
        "  Q_final_exsarsa.append(Q_exsarsa)"
      ],
      "execution_count": 11,
      "outputs": []
    },
    {
      "cell_type": "code",
      "metadata": {
        "colab": {
          "base_uri": "https://localhost:8080/",
          "height": 281
        },
        "id": "1HiL1S_DYkHv",
        "outputId": "10d3b455-23ba-4dc6-e042-e038441ec901"
      },
      "source": [
        "rewards_final_avg_exsarsa = np.average(rewards_final_exsarsa, axis=0)\n",
        "#for i in range(16):\n",
        "plt.plot(rewards_final_avg_exsarsa)\n",
        "plt.title(\"Expected SARSA\")\n",
        "#plt.legend(loc=1, fontsize = 'x-small')\n",
        "plt.show()"
      ],
      "execution_count": 12,
      "outputs": [
        {
          "output_type": "display_data",
          "data": {
            "image/png": "[encoded data removed]",
            "text/plain": [
              "<Figure size 432x288 with 1 Axes>"
            ]
          },
          "metadata": {
            "needs_background": "light"
          }
        }
      ]
    },
    {
      "cell_type": "code",
      "metadata": {
        "colab": {
          "base_uri": "https://localhost:8080/"
        },
        "id": "gBWf2gMPYpA-",
        "outputId": "ebc06509-b9c6-422f-a678-819871f988bd"
      },
      "source": [
        "policy_expected_exsarsa = Q_final_exsarsa[7]\n",
        "generate_episode(policy_expected_exsarsa, env, True)\n"
      ],
      "execution_count": 14,
      "outputs": [
        {
          "output_type": "stream",
          "name": "stdout",
          "text": [
            "\n",
            "\u001b[41mS\u001b[0mFFF\n",
            "FHFH\n",
            "FFFH\n",
            "HFFG\n",
            "  (Down)\n",
            "SFFF\n",
            "\u001b[41mF\u001b[0mHFH\n",
            "FFFH\n",
            "HFFG\n",
            "  (Down)\n",
            "SFFF\n",
            "FHFH\n",
            "\u001b[41mF\u001b[0mFFH\n",
            "HFFG\n",
            "  (Right)\n",
            "SFFF\n",
            "FHFH\n",
            "F\u001b[41mF\u001b[0mFH\n",
            "HFFG\n",
            "  (Down)\n",
            "SFFF\n",
            "FHFH\n",
            "FFFH\n",
            "H\u001b[41mF\u001b[0mFG\n",
            "  (Right)\n",
            "SFFF\n",
            "FHFH\n",
            "FFFH\n",
            "HF\u001b[41mF\u001b[0mG\n",
            "  (Right)\n",
            "SFFF\n",
            "FHFH\n",
            "FFFH\n",
            "HFF\u001b[41mG\u001b[0m\n"
          ]
        }
      ]
    },
    {
      "cell_type": "markdown",
      "metadata": {
        "id": "fasbJu9JJuck"
      },
      "source": [
        "### 3.3"
      ]
    },
    {
      "cell_type": "code",
      "metadata": {
        "id": "m3YdbvleJvhq"
      },
      "source": [
        "def Q_learning(alpha,gamma, num_episodes, render, epsilon, seed, env):\n",
        "    \n",
        "    Q = np.zeros((16,4))\n",
        "    env.seed(seed)\n",
        "    rewards = []\n",
        "    \n",
        "    for i in range(num_episodes):\n",
        "        \n",
        "        state = env.reset()\n",
        "        done = False\n",
        "        udreward = 0\n",
        "\n",
        "\n",
        "        while not done:\n",
        "            \n",
        "            if render:\n",
        "                env.render()\n",
        "            np.random\n",
        "\n",
        "            p = np.random.random()\n",
        "            if p< epsilon:\n",
        "                action = np.random.choice(3)\n",
        "            else:\n",
        "                action = np.argmax(Q[state])\n",
        "            \n",
        "        \n",
        "            next_state, reward, done, extra = env.step(action)\n",
        "            udreward += reward\n",
        "            if done:\n",
        "                Q[state, action] = Q[state,action] + alpha *(reward + gamma *  0 - Q[state,action])\n",
        "                break\n",
        "\n",
        "            else:\n",
        "\n",
        "                Q[state, action] = Q[state,action] + alpha *(reward + gamma *  np.max(Q[next_state,:]) - Q[state,action])\n",
        "                state = next_state\n",
        "\n",
        "        \n",
        "        rewards.append(udreward)\n",
        "            \n",
        "    return Q, rewards\n",
        "    \n",
        "    "
      ],
      "execution_count": 15,
      "outputs": []
    },
    {
      "cell_type": "code",
      "metadata": {
        "id": "roU8Uol0Kx19"
      },
      "source": [
        "Q_final_qlearning = []\n",
        "rewards_final_qlearning = np.zeros((10, 2000))\n",
        "for i in range(10):\n",
        "  Q_qlearning, rewards_final_qlearning[i,:] = Q_learning(0.1, 0.99, 2000, False, 0.02, i, env)\n",
        "  Q_final_qlearning.append(Q_qlearning)"
      ],
      "execution_count": 16,
      "outputs": []
    },
    {
      "cell_type": "code",
      "metadata": {
        "colab": {
          "base_uri": "https://localhost:8080/",
          "height": 281
        },
        "id": "1--3gsS1KyXl",
        "outputId": "e0132e50-7864-45ce-ebf1-cd4f9af14dfa"
      },
      "source": [
        "rewards_final_avg_qlearning = np.average(rewards_final_qlearning, axis=0)\n",
        "#for i in range(16):\n",
        "plt.plot(rewards_final_avg_qlearning)\n",
        "plt.title(\"Q learning\")\n",
        "#plt.legend(loc=1, fontsize = 'x-small')\n",
        "plt.show()"
      ],
      "execution_count": 17,
      "outputs": [
        {
          "output_type": "display_data",
          "data": {
            "image/png": "[encoded data removed]",
            "text/plain": [
              "<Figure size 432x288 with 1 Axes>"
            ]
          },
          "metadata": {
            "needs_background": "light"
          }
        }
      ]
    },
    {
      "cell_type": "code",
      "metadata": {
        "colab": {
          "base_uri": "https://localhost:8080/"
        },
        "id": "-pp_inFmK06n",
        "outputId": "707eb724-51e5-4782-e42f-4b2ba2f7ffff"
      },
      "source": [
        "policy_Q_qlearning = Q_final_qlearning[8]\n",
        "generate_episode(policy_Q_qlearning, env, True)\n"
      ],
      "execution_count": 22,
      "outputs": [
        {
          "output_type": "stream",
          "name": "stdout",
          "text": [
            "\n",
            "\u001b[41mS\u001b[0mFFF\n",
            "FHFH\n",
            "FFFH\n",
            "HFFG\n",
            "  (Right)\n",
            "S\u001b[41mF\u001b[0mFF\n",
            "FHFH\n",
            "FFFH\n",
            "HFFG\n",
            "  (Right)\n",
            "SF\u001b[41mF\u001b[0mF\n",
            "FHFH\n",
            "FFFH\n",
            "HFFG\n",
            "  (Down)\n",
            "SFFF\n",
            "FH\u001b[41mF\u001b[0mH\n",
            "FFFH\n",
            "HFFG\n",
            "  (Down)\n",
            "SFFF\n",
            "FHFH\n",
            "FF\u001b[41mF\u001b[0mH\n",
            "HFFG\n",
            "  (Left)\n",
            "SFFF\n",
            "FHFH\n",
            "F\u001b[41mF\u001b[0mFH\n",
            "HFFG\n",
            "  (Down)\n",
            "SFFF\n",
            "FHFH\n",
            "FFFH\n",
            "H\u001b[41mF\u001b[0mFG\n",
            "  (Right)\n",
            "SFFF\n",
            "FHFH\n",
            "FFFH\n",
            "HF\u001b[41mF\u001b[0mG\n",
            "  (Right)\n",
            "SFFF\n",
            "FHFH\n",
            "FFFH\n",
            "HFF\u001b[41mG\u001b[0m\n"
          ]
        }
      ]
    }
  ]
}